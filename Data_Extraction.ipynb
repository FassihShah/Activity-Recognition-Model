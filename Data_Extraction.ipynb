{
  "cells": [
    {
      "cell_type": "code",
      "execution_count": 4,
      "metadata": {
        "colab": {
          "base_uri": "https://localhost:8080/"
        },
        "id": "htm2rbQRfwL2",
        "outputId": "c4860cb7-b491-492f-9985-70491014e49d"
      },
      "outputs": [
        {
          "name": "stdout",
          "output_type": "stream",
          "text": [
            "Drive already mounted at /content/drive; to attempt to forcibly remount, call drive.mount(\"/content/drive\", force_remount=True).\n"
          ]
        }
      ],
      "source": [
        "import numpy as np\n",
        "from google.colab import drive\n",
        "drive.mount('/content/drive')"
      ]
    },
    {
      "cell_type": "code",
      "execution_count": 26,
      "metadata": {
        "colab": {
          "base_uri": "https://localhost:8080/"
        },
        "id": "_nyJhBy8gLfm",
        "outputId": "20d3253c-f2dc-4bd3-e287-3bf0698370e8"
      },
      "outputs": [
        {
          "name": "stdout",
          "output_type": "stream",
          "text": [
            "\\Training Accelerometer shape: (2284, 80, 3)\n",
            "Training Gyroscope shape: (2284, 80, 3)\n",
            "Training Labels shape: (2284,)\n",
            "\\Testing Accelerometer shape: (2288, 80, 3)\n",
            "Testing Gyroscope shape: (2288, 80, 3)\n",
            "Testing Labels shape: (2288,)\n"
          ]
        }
      ],
      "source": [
        "# Load training data\n",
        "tr_jinsAcc = np.load(\"/content/drive/MyDrive/bbh/training/trainJinsAccelerometer.npy\")\n",
        "tr_jinsGyr = np.load(\"/content/drive/MyDrive/bbh/training/trainJinsGyroscope.npy\")\n",
        "tr_labels = np.load(\"/content/drive/MyDrive/bbh/training/trainLabels.npy\")\n",
        "\n",
        "# Load testing data\n",
        "ts_jinsAcc = np.load(\"/content/drive/MyDrive/bbh/testing/testJinsAccelerometer.npy\")\n",
        "ts_jinsGyr = np.load(\"/content/drive/MyDrive/bbh/testing/testJinsGyroscope.npy\")\n",
        "ts_labels = np.load(\"/content/drive/MyDrive/bbh/testing/testLabels.npy\")\n",
        "\n",
        "print(\"Training Accelerometer shape:\", tr_jinsAcc.shape)\n",
        "print(\"Training Gyroscope shape:\", tr_jinsGyr.shape)\n",
        "print(\"Training Labels shape:\", tr_labels.shape)\n",
        "\n",
        "print(\"Testing Accelerometer shape:\", ts_jinsAcc.shape)\n",
        "print(\"Testing Gyroscope shape:\", ts_jinsGyr.shape)\n",
        "print(\"Testing Labels shape:\", ts_labels.shape)"
      ]
    },
    {
      "cell_type": "code",
      "execution_count": 30,
      "metadata": {
        "colab": {
          "base_uri": "https://localhost:8080/"
        },
        "id": "l4UnRrMAoS6x",
        "outputId": "2bffbef9-88f9-4206-9e10-1ecec1eed8bd"
      },
      "outputs": [
        {
          "name": "stdout",
          "output_type": "stream",
          "text": [
            "OPEN_DOOR Training Accelerometer shape:  (47, 80, 3)\n",
            "RUB_HANDS Training Accelerometer shape:  (40, 80, 3)\n",
            "Combined Training Accelerometer shape: (87, 80, 3)\n",
            "Combined Training Gyroscope shape: (87, 80, 3)\n",
            "Combined Training Labels shape: (87,)\n"
          ]
        }
      ],
      "source": [
        "# Define activity labels\n",
        "OPEN_DOOR = 20\n",
        "RUB_HANDS = 36\n",
        "\n",
        "# Training data filtering\n",
        "tr_labels_OPEN_DOOR_idx = tr_labels == OPEN_DOOR\n",
        "tr_labels_RUB_HANDS_idx = tr_labels == RUB_HANDS\n",
        "\n",
        "tr_jinsAcc_OPEN_DOOR = tr_jinsAcc[tr_labels_OPEN_DOOR_idx]\n",
        "tr_jinsGyr_OPEN_DOOR = tr_jinsGyr[tr_labels_OPEN_DOOR_idx]\n",
        "\n",
        "print(\"OPEN_DOOR Training Accelerometer shape: \",tr_jinsAcc_OPEN_DOOR.shape)\n",
        "\n",
        "tr_jinsAcc_RUB_HANDS = tr_jinsAcc[tr_labels_RUB_HANDS_idx]\n",
        "tr_jinsGyr_RUB_HANDS = tr_jinsGyr[tr_labels_RUB_HANDS_idx]\n",
        "\n",
        "print(\"RUB_HANDS Training Accelerometer shape: \",tr_jinsAcc_RUB_HANDS.shape)\n",
        "\n",
        "tr_labels_OPEN_DOOR = tr_labels[tr_labels_OPEN_DOOR_idx]\n",
        "tr_labels_RUB_HANDS = tr_labels[tr_labels_RUB_HANDS_idx]\n",
        "\n",
        "tr_jinsAcc_Two_Activities = np.concatenate((tr_jinsAcc_OPEN_DOOR, tr_jinsAcc_RUB_HANDS))\n",
        "tr_jinsGyr_Two_Activities = np.concatenate((tr_jinsGyr_OPEN_DOOR, tr_jinsGyr_RUB_HANDS))\n",
        "tr_labels_Two_Activities = np.concatenate((tr_labels_OPEN_DOOR, tr_labels_RUB_HANDS))\n",
        "\n",
        "# Save filtered training data\n",
        "np.save(\"train_JinsAccelerometer_OpenDoor_RubHands.npy\", tr_jinsAcc_Two_Activities)\n",
        "np.save(\"train_JinsGyroscope_OpenDoor_RubHands.npy\", tr_jinsGyr_Two_Activities)\n",
        "np.save(\"train_labels_OpenDoor_RubHands.npy\", tr_labels_Two_Activities)\n",
        "\n",
        "print(\"Combined Training Accelerometer shape:\", tr_jinsAcc_Two_Activities.shape)\n",
        "print(\"Combined Training Gyroscope shape:\", tr_jinsGyr_Two_Activities.shape)\n",
        "print(\"Combined Training Labels shape:\", tr_labels_Two_Activities.shape)"
      ]
    },
    {
      "cell_type": "code",
      "execution_count": 25,
      "metadata": {
        "colab": {
          "base_uri": "https://localhost:8080/"
        },
        "id": "ZBqeB7lB1sw8",
        "outputId": "3b141dee-00ed-40b4-91a3-4809e9ebc51a"
      },
      "outputs": [
        {
          "name": "stdout",
          "output_type": "stream",
          "text": [
            "\n",
            "Combined Testing Accelerometer shape: (90, 80, 3)\n",
            "Combined Testing Gyroscope shape: (90, 80, 3)\n",
            "Combined Testing Labels shape: (90,)\n"
          ]
        }
      ],
      "source": [
        "# Testing data filtering\n",
        "ts_labels_OPEN_DOOR_idx = ts_labels == OPEN_DOOR\n",
        "ts_labels_RUB_HANDS_idx = ts_labels == RUB_HANDS\n",
        "\n",
        "ts_jinsAcc_OPEN_DOOR = ts_jinsAcc[ts_labels_OPEN_DOOR_idx]\n",
        "ts_jinsGyr_OPEN_DOOR = ts_jinsGyr[ts_labels_OPEN_DOOR_idx]\n",
        "\n",
        "ts_jinsAcc_RUB_HANDS = ts_jinsAcc[ts_labels_RUB_HANDS_idx]\n",
        "ts_jinsGyr_RUB_HANDS = ts_jinsGyr[ts_labels_RUB_HANDS_idx]\n",
        "\n",
        "ts_labels_OPEN_DOOR = ts_labels[ts_labels_OPEN_DOOR_idx]\n",
        "ts_labels_RUB_HANDS = ts_labels[ts_labels_RUB_HANDS_idx]\n",
        "\n",
        "ts_jinsAcc_Two_Activities = np.concatenate((ts_jinsAcc_OPEN_DOOR, ts_jinsAcc_RUB_HANDS))\n",
        "ts_jinsGyr_Two_Activities = np.concatenate((ts_jinsGyr_OPEN_DOOR, ts_jinsGyr_RUB_HANDS))\n",
        "ts_labels_Two_Activities = np.concatenate((ts_labels_OPEN_DOOR, ts_labels_RUB_HANDS))\n",
        "\n",
        "# Save filtered testing data\n",
        "np.save(\"test_JinsAccelerometer_OpenDoor_RubHands.npy\", ts_jinsAcc_Two_Activities)\n",
        "np.save(\"test_JinsGyroscope_OpenDoor_RubHands.npy\", ts_jinsGyr_Two_Activities)\n",
        "np.save(\"test_labels_OpenDoor_RubHands.npy\", ts_labels_Two_Activities)\n",
        "\n",
        "print(\"\\nCombined Testing Accelerometer shape:\", ts_jinsAcc_Two_Activities.shape)\n",
        "print(\"Combined Testing Gyroscope shape:\", ts_jinsGyr_Two_Activities.shape)\n",
        "print(\"Combined Testing Labels shape:\", ts_labels_Two_Activities.shape)"
      ]
    },
    {
      "cell_type": "code",
      "execution_count": 27,
      "metadata": {
        "colab": {
          "base_uri": "https://localhost:8080/"
        },
        "id": "MEz7DePE3N9G",
        "outputId": "cd93d6c9-5fb2-40ac-f1aa-6615d7bd162c"
      },
      "outputs": [
        {
          "name": "stdout",
          "output_type": "stream",
          "text": [
            "\n",
            "Sample of tr_msAcc_Two_Activities:\n",
            "[[[ -3.   3. -15.]\n",
            "  [ -3.   3. -15.]\n",
            "  [ -3.   3. -15.]\n",
            "  ...\n",
            "  [ -1.   3. -15.]\n",
            "  [ -1.   3. -15.]\n",
            "  [ -1.   3. -15.]]\n",
            "\n",
            " [[ -4.   5. -14.]\n",
            "  [ -4.   5. -14.]\n",
            "  [ -4.   5. -14.]\n",
            "  ...\n",
            "  [ -7.   9. -12.]\n",
            "  [ -7.   9. -12.]\n",
            "  [ -7.   9. -12.]]\n",
            "\n",
            " [[ -3.   6. -14.]\n",
            "  [ -3.   6. -14.]\n",
            "  [ -2.   6. -14.]\n",
            "  ...\n",
            "  [ -2.  -1. -25.]\n",
            "  [  0.   2. -16.]\n",
            "  [  0.   1. -17.]]\n",
            "\n",
            " [[ -4.   9. -12.]\n",
            "  [ -4.   9. -13.]\n",
            "  [ -4.   9. -13.]\n",
            "  ...\n",
            "  [ -3.  10. -12.]\n",
            "  [ -3.  10. -12.]\n",
            "  [ -3.  10. -12.]]\n",
            "\n",
            " [[ -6.   9. -11.]\n",
            "  [ -6.   9. -11.]\n",
            "  [ -6.   9. -12.]\n",
            "  ...\n",
            "  [  1.   0. -15.]\n",
            "  [  2.   0. -15.]\n",
            "  [  2.   0. -15.]]]\n",
            "\n",
            "Sample of tr_msGyr_Two_Activities:\n",
            "[[[-1.4400e+00  1.2340e+01  4.7410e+01]\n",
            "  [-1.3600e+00  1.2410e+01  4.8960e+01]\n",
            "  [-1.3500e+00  1.2180e+01  5.0520e+01]\n",
            "  ...\n",
            "  [-4.4300e+00  1.3890e+01  3.8150e+01]\n",
            "  [-4.4700e+00  1.3890e+01  3.8110e+01]\n",
            "  [-4.5500e+00  1.3910e+01  3.8080e+01]]\n",
            "\n",
            " [[-1.5000e+00  2.5560e+01  1.4000e-01]\n",
            "  [-1.4300e+00  2.5590e+01  2.2000e-01]\n",
            "  [-1.3800e+00  2.5620e+01  2.7000e-01]\n",
            "  ...\n",
            "  [ 4.7900e+00  4.1040e+01  1.6140e+01]\n",
            "  [ 4.8200e+00  4.1480e+01  1.6470e+01]\n",
            "  [ 4.7600e+00  4.1680e+01  1.6770e+01]]\n",
            "\n",
            " [[-3.7500e+00  2.0180e+01  2.0221e+02]\n",
            "  [-3.8900e+00  2.0140e+01  2.0212e+02]\n",
            "  [-3.9900e+00  2.0120e+01  2.0193e+02]\n",
            "  ...\n",
            "  [ 2.5700e+00  7.5900e+00  1.5420e+02]\n",
            "  [ 2.9100e+00  4.6900e+00  1.5357e+02]\n",
            "  [ 1.8400e+00  2.1900e+00  1.5412e+02]]\n",
            "\n",
            " [[-7.6700e+00  3.4780e+01  2.9225e+02]\n",
            "  [-7.6400e+00  3.4820e+01  2.9214e+02]\n",
            "  [-7.6100e+00  3.4810e+01  2.9198e+02]\n",
            "  ...\n",
            "  [-1.0560e+01  4.2000e+01  2.5949e+02]\n",
            "  [-1.0300e+01  4.2520e+01  2.5995e+02]\n",
            "  [-9.7300e+00  4.2610e+01  2.6044e+02]]\n",
            "\n",
            " [[-4.3000e-01  4.0210e+01  3.1214e+02]\n",
            "  [-8.2000e-01  3.9480e+01  3.1458e+02]\n",
            "  [-1.2600e+00  3.8850e+01  3.1696e+02]\n",
            "  ...\n",
            "  [-4.4200e+00 -4.3100e+00  2.5231e+02]\n",
            "  [-4.1400e+00 -4.5700e+00  2.5049e+02]\n",
            "  [-3.3400e+00 -5.1600e+00  2.4890e+02]]]\n",
            "\n",
            "Sample of tr_labels_Two_Activities:\n",
            "[20 20 20 20 20]\n",
            "\n",
            "Sample of ts_msAcc_Two_Activities:\n",
            "[[[ -3.   8. -13.]\n",
            "  [ -3.   8. -13.]\n",
            "  [ -3.   8. -13.]\n",
            "  ...\n",
            "  [ -1.   0. -16.]\n",
            "  [ -1.   0. -16.]\n",
            "  [ -1.   0. -15.]]\n",
            "\n",
            " [[ -3.   1. -15.]\n",
            "  [ -3.   1. -15.]\n",
            "  [ -3.   1. -15.]\n",
            "  ...\n",
            "  [ -5.   3. -15.]\n",
            "  [ -5.   3. -15.]\n",
            "  [ -5.   3. -15.]]\n",
            "\n",
            " [[  0.   0. -15.]\n",
            "  [  0.  -1. -15.]\n",
            "  [  0.  -1. -15.]\n",
            "  ...\n",
            "  [ -4.   0. -15.]\n",
            "  [ -4.   0. -15.]\n",
            "  [ -3.   1. -16.]]\n",
            "\n",
            " [[ -4.   2. -15.]\n",
            "  [ -4.   2. -15.]\n",
            "  [ -4.   2. -15.]\n",
            "  ...\n",
            "  [ -3.   2. -15.]\n",
            "  [ -3.   2. -15.]\n",
            "  [ -3.   2. -15.]]\n",
            "\n",
            " [[ -2.   3. -15.]\n",
            "  [ -2.   3. -15.]\n",
            "  [ -2.   3. -15.]\n",
            "  ...\n",
            "  [ -1.   2. -15.]\n",
            "  [ -1.   2. -15.]\n",
            "  [ -1.   2. -16.]]]\n",
            "\n",
            "Sample of ts_msGyr_Two_Activities:\n",
            "[[[ -3.53  30.84 128.3 ]\n",
            "  [ -3.6   30.81 128.62]\n",
            "  [ -3.64  30.78 128.78]\n",
            "  ...\n",
            "  [  2.14   3.59 128.6 ]\n",
            "  [  2.41   2.69 128.11]\n",
            "  [  2.7    1.97 127.76]]\n",
            "\n",
            " [[  1.54   9.49 118.95]\n",
            "  [  1.65   9.59 118.94]\n",
            "  [  1.72   9.72 118.94]\n",
            "  ...\n",
            "  [  8.47  20.27 128.85]\n",
            "  [  8.28  20.32 129.41]\n",
            "  [  8.18  20.45 129.9 ]]\n",
            "\n",
            " [[ -0.63  -4.77 195.55]\n",
            "  [ -0.56  -4.81 195.54]\n",
            "  [ -0.49  -4.86 195.51]\n",
            "  ...\n",
            "  [  7.54  15.99 126.26]\n",
            "  [  7.58  16.59 127.88]\n",
            "  [  7.52  17.23 129.81]]\n",
            "\n",
            " [[  8.64   9.96 132.9 ]\n",
            "  [  8.69  10.2  132.79]\n",
            "  [  8.74  10.36 132.71]\n",
            "  ...\n",
            "  [  5.45  10.69 130.13]\n",
            "  [  5.45  10.69 130.15]\n",
            "  [  5.45  10.7  130.17]]\n",
            "\n",
            " [[ -3.87  14.39 280.65]\n",
            "  [ -3.7   14.77 280.87]\n",
            "  [ -3.78  15.25 280.96]\n",
            "  ...\n",
            "  [ -1.15  11.95 280.08]\n",
            "  [ -1.47  10.6  280.09]\n",
            "  [ -1.73   9.55 280.13]]]\n",
            "\n",
            "Sample of ts_labels_Two_Activities:\n",
            "[20 20 20 20 20]\n"
          ]
        }
      ],
      "source": [
        "# # Display samples of training data\n",
        "print(\"\\nSample of tr_jinsAcc_Two_Activities:\")\n",
        "print(tr_jinsAcc_Two_Activities[:5])\n",
        "\n",
        "print(\"\\nSample of tr_jinsGyr_Two_Activities:\")\n",
        "print(tr_jinsGyr_Two_Activities[:5])\n",
        "\n",
        "print(\"\\nSample of tr_labels_Two_Activities:\")\n",
        "print(tr_labels_Two_Activities[:5])\n",
        "\n",
        "# Display samples of testing data\n",
        "print(\"\\nSample of ts_jinsAcc_Two_Activities:\")\n",
        "print(ts_jinsAcc_Two_Activities[:5])\n",
        "\n",
        "print(\"\\nSample of ts_jinsGyr_Two_Activities:\")\n",
        "print(ts_jinsGyr_Two_Activities[:5])\n",
        "\n",
        "print(\"\\nSample of ts_labels_Two_Activities:\")\n",
        "print(ts_labels_Two_Activities[:5])"
      ]
    }
  ],
  "metadata": {
    "colab": {
      "name": "Welcome To Colab",
      "provenance": []
    },
    "kernelspec": {
      "display_name": "Python 3",
      "name": "python3"
    }
  },
  "nbformat": 4,
  "nbformat_minor": 0
}
